{
 "cells": [
  {
   "cell_type": "markdown",
   "id": "d5d73661",
   "metadata": {},
   "source": [
    "7.4 Make and print a list called things with these three strings as elements: \"mozzarella\", \"cinderella\", \"salmonella\"."
   ]
  },
  {
   "cell_type": "code",
   "execution_count": 1,
   "id": "e348bf15",
   "metadata": {},
   "outputs": [
    {
     "data": {
      "text/plain": [
       "['mozzarella', 'cinderella', 'salmonella']"
      ]
     },
     "execution_count": 1,
     "metadata": {},
     "output_type": "execute_result"
    }
   ],
   "source": [
    ">>> things = [\"mozzarella\", \"cinderella\", \"salmonella\"]\n",
    ">>> things"
   ]
  },
  {
   "cell_type": "markdown",
   "id": "b1e30baf",
   "metadata": {},
   "source": [
    "7.5 Capitalize the element in things that refers to a person and then print the list. Did it change the element in the list?"
   ]
  },
  {
   "cell_type": "markdown",
   "id": "40327601",
   "metadata": {},
   "source": [
    "Capitalizes the word but doesn’t change the word in the list:"
   ]
  },
  {
   "cell_type": "code",
   "execution_count": 2,
   "id": "8749632c",
   "metadata": {},
   "outputs": [
    {
     "data": {
      "text/plain": [
       "['mozzarella', 'cinderella', 'salmonella']"
      ]
     },
     "execution_count": 2,
     "metadata": {},
     "output_type": "execute_result"
    }
   ],
   "source": [
    ">>> things[1].capitalize()\n",
    "'Cinderella'\n",
    ">>> things"
   ]
  },
  {
   "cell_type": "markdown",
   "id": "9a5787a3",
   "metadata": {},
   "source": [
    "Capitalizes the word in the list:"
   ]
  },
  {
   "cell_type": "code",
   "execution_count": 3,
   "id": "2c082dc9",
   "metadata": {},
   "outputs": [
    {
     "data": {
      "text/plain": [
       "['mozzarella', 'Cinderella', 'salmonella']"
      ]
     },
     "execution_count": 3,
     "metadata": {},
     "output_type": "execute_result"
    }
   ],
   "source": [
    ">>> things[1] = things[1].capitalize()\n",
    ">>> things"
   ]
  },
  {
   "cell_type": "markdown",
   "id": "7131c7a5",
   "metadata": {},
   "source": [
    "7.6 Make the cheesy element of things all uppercase and then print the list."
   ]
  },
  {
   "cell_type": "code",
   "execution_count": 4,
   "id": "fe90f054",
   "metadata": {},
   "outputs": [
    {
     "data": {
      "text/plain": [
       "['MOZZARELLA', 'Cinderella', 'salmonella']"
      ]
     },
     "execution_count": 4,
     "metadata": {},
     "output_type": "execute_result"
    }
   ],
   "source": [
    ">>> things[0] = things[0].upper()\n",
    ">>> things"
   ]
  },
  {
   "cell_type": "markdown",
   "id": "aad749b4",
   "metadata": {},
   "source": [
    "7.7 Delete the disease element, collect your Nobel Prize, and then print the list."
   ]
  },
  {
   "cell_type": "markdown",
   "id": "3d5de66a",
   "metadata": {},
   "source": [
    "This would remove it by value:"
   ]
  },
  {
   "cell_type": "code",
   "execution_count": 5,
   "id": "aa383640",
   "metadata": {},
   "outputs": [
    {
     "data": {
      "text/plain": [
       "['MOZZARELLA', 'Cinderella']"
      ]
     },
     "execution_count": 5,
     "metadata": {},
     "output_type": "execute_result"
    }
   ],
   "source": [
    ">>> things.remove(\"salmonella\")\n",
    ">>> things"
   ]
  },
  {
   "cell_type": "markdown",
   "id": "de498949",
   "metadata": {},
   "source": [
    "9.1 Define a function called good() that returns the following list: ['Harry', 'Ron', 'Hermione']."
   ]
  },
  {
   "cell_type": "code",
   "execution_count": 15,
   "id": "8db15564",
   "metadata": {},
   "outputs": [
    {
     "data": {
      "text/plain": [
       "['Harry', 'Ron', 'Hermione']"
      ]
     },
     "execution_count": 15,
     "metadata": {},
     "output_type": "execute_result"
    }
   ],
   "source": [
    ">>> def good():\n",
    "...     return ['Harry', 'Ron', 'Hermione']\n",
    "...\n",
    ">>> good()"
   ]
  },
  {
   "cell_type": "markdown",
   "id": "40a4fef3",
   "metadata": {},
   "source": [
    "9.2 Define a generator function called get_odds() that returns the odd numbers from range(10). Use a for loop to find and print the third value returned."
   ]
  },
  {
   "cell_type": "code",
   "execution_count": 29,
   "id": "ff70d687",
   "metadata": {},
   "outputs": [
    {
     "name": "stdout",
     "output_type": "stream",
     "text": [
      "The third odd number is 5\n"
     ]
    }
   ],
   "source": [
    ">>> def get_odds():\n",
    "...     for number in range(1, 10, 2):\n",
    "...         yield number\n",
    "...\n",
    ">>> count = 1\n",
    ">>> for number in get_odds():\n",
    "...     if count == 3:\n",
    "...         print(\"The third odd number is\", number)\n",
    "...         break\n",
    "...     count += 1\n",
    "..."
   ]
  }
 ],
 "metadata": {
  "kernelspec": {
   "display_name": "Python 3 (ipykernel)",
   "language": "python",
   "name": "python3"
  },
  "language_info": {
   "codemirror_mode": {
    "name": "ipython",
    "version": 3
   },
   "file_extension": ".py",
   "mimetype": "text/x-python",
   "name": "python",
   "nbconvert_exporter": "python",
   "pygments_lexer": "ipython3",
   "version": "3.10.6"
  }
 },
 "nbformat": 4,
 "nbformat_minor": 5
}
